{
 "cells": [
  {
   "cell_type": "markdown",
   "id": "cfbebe64",
   "metadata": {},
   "source": [
    "1 Why are functions advantageous to have in your programs?\n",
    "-- When we create function it helps us to make programme to look clean and it helps in cutting down the length of code also the efforts to write the code and make easy to update the code. It is more helpfull when we create projects because in projects we use one type of code very often so we make fuction for that so whenever we need that code we just simply call that fuction."
   ]
  },
  {
   "cell_type": "markdown",
   "id": "24e36c87",
   "metadata": {},
   "source": [
    "2 When does the code in a function run: when it's specified or when it's called?\n",
    "--fuction run only wehn it is called otherwise it will not run at all"
   ]
  },
  {
   "cell_type": "markdown",
   "id": "1537b54c",
   "metadata": {},
   "source": [
    "3 What statement creates a function?\n",
    "--Using def() we can create a fuction like given below"
   ]
  },
  {
   "cell_type": "code",
   "execution_count": 9,
   "id": "97d44665",
   "metadata": {},
   "outputs": [],
   "source": [
    "#fuction to calculate the sum of a,b\n",
    "def j(a,b):    #j is name of function a,b are arguments\n",
    "     return a+b"
   ]
  },
  {
   "cell_type": "markdown",
   "id": "95551ca5",
   "metadata": {},
   "source": [
    "4 What is the difference between a function and a function call?\n",
    "--Function increase the reusability of code and decrease the length of code.As you can see above fuction j(a,b) and fuction calling is as name tells that we call the fuction to excute as shown below"
   ]
  },
  {
   "cell_type": "code",
   "execution_count": 10,
   "id": "e974d88a",
   "metadata": {},
   "outputs": [
    {
     "data": {
      "text/plain": [
       "22"
      ]
     },
     "execution_count": 10,
     "metadata": {},
     "output_type": "execute_result"
    }
   ],
   "source": [
    "j(10,12)"
   ]
  },
  {
   "cell_type": "markdown",
   "id": "9b48ea45",
   "metadata": {},
   "source": [
    "5. How many global scopes are there in a Python program? How many local scopes?\n",
    "--There is only one global scope in a python programme. There can be many local scope as we want."
   ]
  },
  {
   "cell_type": "markdown",
   "id": "78f4214d",
   "metadata": {},
   "source": [
    "6. What happens to variables in a local scope when the function call returns?\n",
    "-- After the excution of the fuction and it return something then local varaibles are vanished or destroyed."
   ]
  },
  {
   "cell_type": "markdown",
   "id": "2db7c6ab",
   "metadata": {},
   "source": [
    "7. What is the concept of a return value? Is it possible to have a return value in an expression?\n",
    "-- When function compelete the task which is given inside the fuction body then if return is used it will return the desired value.It will not return expression\n"
   ]
  },
  {
   "cell_type": "markdown",
   "id": "3e9ae437",
   "metadata": {},
   "source": [
    "8. If a function does not have a return statement, what is the return value of a call to that function?\n",
    "-- If return is not used in fuction so it will not give any value.Because only return or print are use to get the result from \n",
    "the fuction as shown below"
   ]
  },
  {
   "cell_type": "code",
   "execution_count": 1,
   "id": "b6377487",
   "metadata": {},
   "outputs": [],
   "source": [
    "def f():\n",
    "    a= 'vivek' #no use of return"
   ]
  },
  {
   "cell_type": "code",
   "execution_count": 6,
   "id": "0fd6a810",
   "metadata": {},
   "outputs": [],
   "source": [
    "f() #no output"
   ]
  },
  {
   "cell_type": "code",
   "execution_count": 3,
   "id": "9033b2cf",
   "metadata": {},
   "outputs": [],
   "source": [
    "#use of return\n",
    "def g():\n",
    "    a='vivek'\n",
    "    return a #we can use print(a)"
   ]
  },
  {
   "cell_type": "code",
   "execution_count": 4,
   "id": "a9eb42b5",
   "metadata": {},
   "outputs": [
    {
     "data": {
      "text/plain": [
       "'vivek'"
      ]
     },
     "execution_count": 4,
     "metadata": {},
     "output_type": "execute_result"
    }
   ],
   "source": [
    "g()"
   ]
  },
  {
   "cell_type": "code",
   "execution_count": 7,
   "id": "100477a9",
   "metadata": {},
   "outputs": [
    {
     "name": "stdout",
     "output_type": "stream",
     "text": [
      "Global\n",
      "Local\n"
     ]
    }
   ],
   "source": [
    "#9. How do you make a function variable refer to the global variable?\n",
    "a= 'Global'  #global variable\n",
    "def h():\n",
    "    global a\n",
    "    a= 'Local'\n",
    "    return a\n",
    "print(a) # a is Global\n",
    "h()\n",
    "print(a) # a is Local\n"
   ]
  },
  {
   "cell_type": "code",
   "execution_count": 8,
   "id": "d4283748",
   "metadata": {},
   "outputs": [
    {
     "data": {
      "text/plain": [
       "NoneType"
      ]
     },
     "execution_count": 8,
     "metadata": {},
     "output_type": "execute_result"
    }
   ],
   "source": [
    "#10. What is the data type of None?\n",
    "type(None) #NoneType"
   ]
  },
  {
   "cell_type": "markdown",
   "id": "de97dbd3",
   "metadata": {},
   "source": [
    "11. What does the sentence import areallyourpetsnamederic do?\n",
    "import areallyourpetsnamederic will import  this module (arellyourpetsnamederic) \n"
   ]
  },
  {
   "cell_type": "markdown",
   "id": "86de6171",
   "metadata": {},
   "source": [
    "12. If you had a bacon() feature in a spam module, what would you call it after importing spam?\n",
    "--import spam is used for inporting the module\n",
    "  spam.bacon() is used for calling"
   ]
  },
  {
   "cell_type": "markdown",
   "id": "b12b9689",
   "metadata": {},
   "source": [
    "13. What can you do to save a programme from crashing if it encounters an error?\n",
    "-- To counter this we can use try and except block , try block excute first then if it encountered with error then it will excute \n",
    "except block in this way we can excute thethe whole programme even if we encounter error in it as shown below"
   ]
  },
  {
   "cell_type": "code",
   "execution_count": 2,
   "id": "bfe3ebac",
   "metadata": {
    "scrolled": true
   },
   "outputs": [
    {
     "ename": "ZeroDivisionError",
     "evalue": "division by zero",
     "output_type": "error",
     "traceback": [
      "\u001b[1;31m---------------------------------------------------------------------------\u001b[0m",
      "\u001b[1;31mZeroDivisionError\u001b[0m                         Traceback (most recent call last)",
      "\u001b[1;32m~\\AppData\\Local\\Temp/ipykernel_1784/3636095270.py\u001b[0m in \u001b[0;36m<module>\u001b[1;34m\u001b[0m\n\u001b[0;32m      2\u001b[0m \u001b[0ma\u001b[0m\u001b[1;33m=\u001b[0m \u001b[1;36m23\u001b[0m\u001b[1;33m\u001b[0m\u001b[1;33m\u001b[0m\u001b[0m\n\u001b[0;32m      3\u001b[0m \u001b[0mb\u001b[0m\u001b[1;33m=\u001b[0m\u001b[1;36m0\u001b[0m\u001b[1;33m\u001b[0m\u001b[1;33m\u001b[0m\u001b[0m\n\u001b[1;32m----> 4\u001b[1;33m \u001b[0mprint\u001b[0m\u001b[1;33m(\u001b[0m\u001b[0ma\u001b[0m\u001b[1;33m/\u001b[0m\u001b[0mb\u001b[0m\u001b[1;33m)\u001b[0m\u001b[1;33m\u001b[0m\u001b[1;33m\u001b[0m\u001b[0m\n\u001b[0m\u001b[0;32m      5\u001b[0m \u001b[0mprint\u001b[0m\u001b[1;33m(\u001b[0m\u001b[0ma\u001b[0m\u001b[1;33m+\u001b[0m\u001b[0mb\u001b[0m\u001b[1;33m)\u001b[0m\u001b[1;33m\u001b[0m\u001b[1;33m\u001b[0m\u001b[0m\n",
      "\u001b[1;31mZeroDivisionError\u001b[0m: division by zero"
     ]
    }
   ],
   "source": [
    "#division and addition of number\n",
    "a= 23\n",
    "b=0\n",
    "print(a/b) #as we can see that where we get error because of zero in the denominator \n",
    "print(a+b) #due to error this will not excute"
   ]
  },
  {
   "cell_type": "code",
   "execution_count": 10,
   "id": "d5f5fd3b",
   "metadata": {},
   "outputs": [
    {
     "name": "stdout",
     "output_type": "stream",
     "text": [
      "Error\n",
      "89\n"
     ]
    }
   ],
   "source": [
    "\n",
    "try :\n",
    "    a= 89\n",
    "    b= 0\n",
    "    print(a/b)\n",
    "    \n",
    "except:\n",
    "    print('Error')\n",
    "print(a+b)"
   ]
  },
  {
   "cell_type": "markdown",
   "id": "35a4739f",
   "metadata": {},
   "source": [
    "14. What is the purpose of the try clause? What is the purpose of the except clause?\n",
    "--try is used when there going to give output of code if there any error comes then it will go to except clause because of which programme will excute completely . As shown below"
   ]
  },
  {
   "cell_type": "code",
   "execution_count": 1,
   "id": "22440b1c",
   "metadata": {},
   "outputs": [
    {
     "name": "stdout",
     "output_type": "stream",
     "text": [
      "10\n",
      "0\n",
      "you have enter something wrong\n"
     ]
    }
   ],
   "source": [
    "try :                  #it will xcute first\n",
    "    a = int(input())\n",
    "    b = int(input())\n",
    "    print(a/b)   \n",
    "except:                #if we get error in try block then this will excute\n",
    "    print('you have enter something wrong') "
   ]
  },
  {
   "cell_type": "code",
   "execution_count": null,
   "id": "2580d393",
   "metadata": {},
   "outputs": [],
   "source": []
  }
 ],
 "metadata": {
  "kernelspec": {
   "display_name": "Python 3 (ipykernel)",
   "language": "python",
   "name": "python3"
  },
  "language_info": {
   "codemirror_mode": {
    "name": "ipython",
    "version": 3
   },
   "file_extension": ".py",
   "mimetype": "text/x-python",
   "name": "python",
   "nbconvert_exporter": "python",
   "pygments_lexer": "ipython3",
   "version": "3.9.7"
  }
 },
 "nbformat": 4,
 "nbformat_minor": 5
}
