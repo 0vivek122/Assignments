{
 "cells": [
  {
   "cell_type": "code",
   "execution_count": 4,
   "id": "d1020265",
   "metadata": {},
   "outputs": [
    {
     "name": "stdout",
     "output_type": "stream",
     "text": [
      "Convert km into miles\n",
      "Enter the value in kilometers 56\n",
      "the value in miles 34.796776\n"
     ]
    }
   ],
   "source": [
    "#1.\tWrite a Python program to convert kilometers to miles?\n",
    "print('Convert km into miles')\n",
    "km= float(input('Enter the value in kilometers '))\n",
    "m= 0.621371*km\n",
    "print('the value in miles',m)"
   ]
  },
  {
   "cell_type": "code",
   "execution_count": 6,
   "id": "7f384020",
   "metadata": {},
   "outputs": [
    {
     "name": "stdout",
     "output_type": "stream",
     "text": [
      "Enter the value in celsius 89\n",
      "the value in fahrenheit 192.2\n"
     ]
    }
   ],
   "source": [
    "#2.\tWrite a Python program to convert Celsius to Fahrenheit?\n",
    "c= float(input('Enter the value in celsius '))\n",
    "f= (c * 9/5) + 32\n",
    "\n",
    "print('the value in fahrenheit',f)"
   ]
  },
  {
   "cell_type": "code",
   "execution_count": 9,
   "id": "9d357079",
   "metadata": {},
   "outputs": [],
   "source": [
    "#3.\tWrite a Python program to display calendar?\n",
    "import calendar"
   ]
  },
  {
   "cell_type": "code",
   "execution_count": 13,
   "id": "aad9e3f2",
   "metadata": {},
   "outputs": [
    {
     "name": "stdout",
     "output_type": "stream",
     "text": [
      "Enter the year:2022\n",
      "Enter the month:7\n",
      "     July 2022\n",
      "Mo Tu We Th Fr Sa Su\n",
      "             1  2  3\n",
      " 4  5  6  7  8  9 10\n",
      "11 12 13 14 15 16 17\n",
      "18 19 20 21 22 23 24\n",
      "25 26 27 28 29 30 31\n",
      "\n"
     ]
    }
   ],
   "source": [
    "y= int(input('Enter the year:'))\n",
    "m= int(input('Enter the month:'))\n",
    "print(calendar.month(y,m))"
   ]
  },
  {
   "cell_type": "code",
   "execution_count": null,
   "id": "861416f7",
   "metadata": {},
   "outputs": [],
   "source": [
    "#4.\tWrite a Python program to solve quadratic equation?\n"
   ]
  },
  {
   "cell_type": "code",
   "execution_count": 20,
   "id": "23ce713f",
   "metadata": {},
   "outputs": [
    {
     "name": "stdout",
     "output_type": "stream",
     "text": [
      "Enter the value a:8\n",
      "Enter the value b:40\n",
      "Enter the value c:10\n",
      "Roots are  -0.2639 -4.7361\n"
     ]
    }
   ],
   "source": [
    "a= int(input('Enter the value a:'))\n",
    "b= int(input('Enter the value b:'))\n",
    "c= int(input('Enter the value c:'))\n",
    "d= b**2- (4*a*c)\n",
    "x= round((-b+(d**0.5))/(2*a),4)\n",
    "y=round((-b-(d**0.5))/(2*a),4)\n",
    "print('Roots are ',x,y)"
   ]
  },
  {
   "cell_type": "code",
   "execution_count": 14,
   "id": "b19c535d",
   "metadata": {},
   "outputs": [],
   "source": [
    "#5.\tWrite a Python program to swap two variables without temp variable?\n",
    "a=10\n",
    "b=5\n",
    "a,b=b,a"
   ]
  },
  {
   "cell_type": "code",
   "execution_count": 15,
   "id": "91050051",
   "metadata": {},
   "outputs": [
    {
     "data": {
      "text/plain": [
       "5"
      ]
     },
     "execution_count": 15,
     "metadata": {},
     "output_type": "execute_result"
    }
   ],
   "source": [
    "a"
   ]
  },
  {
   "cell_type": "code",
   "execution_count": 16,
   "id": "d65e34c3",
   "metadata": {},
   "outputs": [
    {
     "data": {
      "text/plain": [
       "10"
      ]
     },
     "execution_count": 16,
     "metadata": {},
     "output_type": "execute_result"
    }
   ],
   "source": [
    "b"
   ]
  },
  {
   "cell_type": "code",
   "execution_count": 19,
   "id": "0a593fbf",
   "metadata": {},
   "outputs": [
    {
     "data": {
      "text/plain": [
       "10.24"
      ]
     },
     "execution_count": 19,
     "metadata": {},
     "output_type": "execute_result"
    }
   ],
   "source": [
    "round(10.2356,2)"
   ]
  },
  {
   "cell_type": "code",
   "execution_count": null,
   "id": "937fff0b",
   "metadata": {},
   "outputs": [],
   "source": []
  }
 ],
 "metadata": {
  "kernelspec": {
   "display_name": "Python 3 (ipykernel)",
   "language": "python",
   "name": "python3"
  },
  "language_info": {
   "codemirror_mode": {
    "name": "ipython",
    "version": 3
   },
   "file_extension": ".py",
   "mimetype": "text/x-python",
   "name": "python",
   "nbconvert_exporter": "python",
   "pygments_lexer": "ipython3",
   "version": "3.9.7"
  }
 },
 "nbformat": 4,
 "nbformat_minor": 5
}
