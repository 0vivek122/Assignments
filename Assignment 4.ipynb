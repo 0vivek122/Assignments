{
 "cells": [
  {
   "cell_type": "markdown",
   "id": "20ec728c",
   "metadata": {},
   "source": [
    "What exactly is []?\n",
    "-This  is list which contain no item in it you can say empty.As shown below"
   ]
  },
  {
   "cell_type": "code",
   "execution_count": 1,
   "id": "c90d7bd5",
   "metadata": {},
   "outputs": [],
   "source": [
    "l=[]"
   ]
  },
  {
   "cell_type": "code",
   "execution_count": 3,
   "id": "d885ccfc",
   "metadata": {},
   "outputs": [
    {
     "data": {
      "text/plain": [
       "list"
      ]
     },
     "execution_count": 3,
     "metadata": {},
     "output_type": "execute_result"
    }
   ],
   "source": [
    "type(l)"
   ]
  },
  {
   "cell_type": "code",
   "execution_count": 8,
   "id": "9196f868",
   "metadata": {},
   "outputs": [
    {
     "data": {
      "text/plain": [
       "[1, 5, 6, 'hello']"
      ]
     },
     "execution_count": 8,
     "metadata": {},
     "output_type": "execute_result"
    }
   ],
   "source": [
    "#2. In a list of values stored in a variable called spam, how would you assign the value 'hello' as the third value? (Assume [2, 4, 6, 8, 10] are in spam.)\n",
    "spam=[1,5,6]\n",
    "spam.append('hello') #by using append we can add hello in the list\n",
    "spam #now hello is add in the list"
   ]
  },
  {
   "cell_type": "code",
   "execution_count": null,
   "id": "7838d76c",
   "metadata": {},
   "outputs": [],
   "source": [
    "#Let's pretend the spam includes the list ['a', 'b', 'c', 'd'] for the next three queries."
   ]
  },
  {
   "cell_type": "code",
   "execution_count": 1,
   "id": "88b6c691",
   "metadata": {},
   "outputs": [
    {
     "data": {
      "text/plain": [
       "'d'"
      ]
     },
     "execution_count": 1,
     "metadata": {},
     "output_type": "execute_result"
    }
   ],
   "source": [
    "#3. What is the value of spam[int(int('3' * 2) / 11)]?\n",
    "spam= ['a','b','c','d']\n",
    "spam[int(int('3' * 2) / 11)]"
   ]
  },
  {
   "cell_type": "code",
   "execution_count": 2,
   "id": "1dec4bbb",
   "metadata": {},
   "outputs": [
    {
     "data": {
      "text/plain": [
       "'d'"
      ]
     },
     "execution_count": 2,
     "metadata": {},
     "output_type": "execute_result"
    }
   ],
   "source": [
    "#4. What is the value of spam[-1]?\n",
    "spam[-1]"
   ]
  },
  {
   "cell_type": "code",
   "execution_count": 3,
   "id": "abe9051b",
   "metadata": {},
   "outputs": [
    {
     "data": {
      "text/plain": [
       "['a', 'b']"
      ]
     },
     "execution_count": 3,
     "metadata": {},
     "output_type": "execute_result"
    }
   ],
   "source": [
    "#5. What is the value of spam[:2]?\n",
    "spam[:2]"
   ]
  },
  {
   "cell_type": "code",
   "execution_count": 4,
   "id": "72a430be",
   "metadata": {},
   "outputs": [
    {
     "data": {
      "text/plain": [
       "1"
      ]
     },
     "execution_count": 4,
     "metadata": {},
     "output_type": "execute_result"
    }
   ],
   "source": [
    "#Let's pretend bacon has the list [3.14, 'cat,' 11, 'cat,' True] for the next three questions.\n",
    "#6. What is the value of bacon.index('cat')?\n",
    "bacon=[3.14,'cat',11,'cat',True]\n",
    "bacon.index('cat') #it will show the index of first 'cat'"
   ]
  },
  {
   "cell_type": "code",
   "execution_count": 6,
   "id": "58819ea3",
   "metadata": {},
   "outputs": [
    {
     "data": {
      "text/plain": [
       "[3.14, 'cat', 11, 'cat', True, 99, 99]"
      ]
     },
     "execution_count": 6,
     "metadata": {},
     "output_type": "execute_result"
    }
   ],
   "source": [
    "#7. How does bacon.append(99) change the look of the list value in bacon?\n",
    "bacon.append(99) #it will add 99 at last of list\n",
    "bacon"
   ]
  },
  {
   "cell_type": "code",
   "execution_count": 7,
   "id": "9fb1e98a",
   "metadata": {},
   "outputs": [],
   "source": [
    "#8. How does bacon.remove('cat') change the look of the list in bacon?\n",
    "bacon.remove('cat') #it will remove the first occuring 'cat' that available in the bacon"
   ]
  },
  {
   "cell_type": "code",
   "execution_count": 8,
   "id": "5a2169bc",
   "metadata": {},
   "outputs": [
    {
     "data": {
      "text/plain": [
       "[3.14, 11, 'cat', True, 99, 99]"
      ]
     },
     "execution_count": 8,
     "metadata": {},
     "output_type": "execute_result"
    }
   ],
   "source": [
    "bacon"
   ]
  },
  {
   "cell_type": "code",
   "execution_count": 9,
   "id": "73e0af4c",
   "metadata": {},
   "outputs": [
    {
     "data": {
      "text/plain": [
       "[1, 2, 3, 4, 5, 6]"
      ]
     },
     "execution_count": 9,
     "metadata": {},
     "output_type": "execute_result"
    }
   ],
   "source": [
    "#9. What are the list concatenation and list replication operators?\n",
    "l1= [1,2,3] \n",
    "l2=[4,5,6]\n",
    "l=l1+l2    #this is list concatenation means we can add two list to make one list\n",
    "l"
   ]
  },
  {
   "cell_type": "code",
   "execution_count": 10,
   "id": "11b017ef",
   "metadata": {},
   "outputs": [
    {
     "data": {
      "text/plain": [
       "[1, 2, 3, 1, 2, 3]"
      ]
     },
     "execution_count": 10,
     "metadata": {},
     "output_type": "execute_result"
    }
   ],
   "source": [
    "l1*2  #this is list replication means we are making two copies of list and making it one list"
   ]
  },
  {
   "cell_type": "code",
   "execution_count": 11,
   "id": "79ccc63c",
   "metadata": {},
   "outputs": [
    {
     "data": {
      "text/plain": [
       "[1, 2, 5, 'vivek']"
      ]
     },
     "execution_count": 11,
     "metadata": {},
     "output_type": "execute_result"
    }
   ],
   "source": [
    "#10. What is difference between the list methods append() and insert()?\n",
    "l=[1,2,5]          #here is a list\n",
    "l.append('vivek')  #it will add 'vivek' at last of the list l\n",
    "l"
   ]
  },
  {
   "cell_type": "code",
   "execution_count": 12,
   "id": "6f7f9b23",
   "metadata": {},
   "outputs": [
    {
     "data": {
      "text/plain": [
       "[2, 5, 'vivek', 6]"
      ]
     },
     "execution_count": 12,
     "metadata": {},
     "output_type": "execute_result"
    }
   ],
   "source": [
    "l=[2,5,6] #now it is time for insert operation\n",
    "l.insert(2,'vivek') #insert will take two argument the first one is index and other one is the element which we want to add so it simply add the elment just before the index\n",
    "l #as shown here"
   ]
  },
  {
   "cell_type": "code",
   "execution_count": 13,
   "id": "dc3a2a60",
   "metadata": {},
   "outputs": [
    {
     "data": {
      "text/plain": [
       "[4, 5, 3, 5, 2]"
      ]
     },
     "execution_count": 13,
     "metadata": {},
     "output_type": "execute_result"
    }
   ],
   "source": [
    "#11. What are the two methods for removing items from a list?\n",
    "l=[3,4,5,3,5,2]\n",
    "l.remove(3) #first is by using the remove it wil remove the first occurence of the number from list\n",
    "l # aswe can see 3 is first occurence of 3 is removed \n"
   ]
  },
  {
   "cell_type": "code",
   "execution_count": 15,
   "id": "839eede3",
   "metadata": {},
   "outputs": [
    {
     "data": {
      "text/plain": [
       "[4, 5, 3, 2]"
      ]
     },
     "execution_count": 15,
     "metadata": {},
     "output_type": "execute_result"
    }
   ],
   "source": [
    "l=[4, 5, 3, 5, 2]\n",
    "#l.pop(3) pop will remove using index as argument here 3 is index \n",
    "l[3] # this will give 5\n",
    "l.pop(3)\n",
    "l"
   ]
  },
  {
   "cell_type": "code",
   "execution_count": 1,
   "id": "ad2494b7",
   "metadata": {},
   "outputs": [],
   "source": [
    "#12. Describe how list values and string values are identical.\n",
    "s= 'Vivek Singh' #this is string\n",
    "l=[9,8,7,6,5,4,3,2,1] #this is list\n",
    "#both list and string store in squence"
   ]
  },
  {
   "cell_type": "code",
   "execution_count": 2,
   "id": "93a1f077",
   "metadata": {},
   "outputs": [
    {
     "data": {
      "text/plain": [
       "'V'"
      ]
     },
     "execution_count": 2,
     "metadata": {},
     "output_type": "execute_result"
    }
   ],
   "source": [
    "s[0]  #string save character in index same as list"
   ]
  },
  {
   "cell_type": "code",
   "execution_count": 3,
   "id": "27894484",
   "metadata": {},
   "outputs": [
    {
     "data": {
      "text/plain": [
       "9"
      ]
     },
     "execution_count": 3,
     "metadata": {},
     "output_type": "execute_result"
    }
   ],
   "source": [
    "l[0] #list save in index form also"
   ]
  },
  {
   "cell_type": "code",
   "execution_count": 5,
   "id": "4073e1ee",
   "metadata": {},
   "outputs": [],
   "source": [
    "#13. What's the difference between tuples and lists?\n",
    "l=[6,4,3,9] #list\n",
    "t=(2,4,3,7) #tuples\n",
    "#list mutable means we can chage the elment in the list\n",
    "#tuples are immutable\n"
   ]
  },
  {
   "cell_type": "code",
   "execution_count": 8,
   "id": "08d6b09c",
   "metadata": {},
   "outputs": [
    {
     "data": {
      "text/plain": [
       "['virek', 4, 3, 9]"
      ]
     },
     "execution_count": 8,
     "metadata": {},
     "output_type": "execute_result"
    }
   ],
   "source": [
    "l[0]='virek' #here we are changing the element at zero index we can do that\n",
    "l"
   ]
  },
  {
   "cell_type": "code",
   "execution_count": 9,
   "id": "a8dd5536",
   "metadata": {},
   "outputs": [
    {
     "ename": "TypeError",
     "evalue": "'tuple' object does not support item assignment",
     "output_type": "error",
     "traceback": [
      "\u001b[1;31m---------------------------------------------------------------------------\u001b[0m",
      "\u001b[1;31mTypeError\u001b[0m                                 Traceback (most recent call last)",
      "\u001b[1;32m~\\AppData\\Local\\Temp/ipykernel_7176/1367764508.py\u001b[0m in \u001b[0;36m<module>\u001b[1;34m\u001b[0m\n\u001b[1;32m----> 1\u001b[1;33m \u001b[0mt\u001b[0m\u001b[1;33m[\u001b[0m\u001b[1;36m0\u001b[0m\u001b[1;33m]\u001b[0m\u001b[1;33m=\u001b[0m\u001b[1;34m'vivek'\u001b[0m \u001b[1;31m#we are doing same but we can't do  this\u001b[0m\u001b[1;33m\u001b[0m\u001b[1;33m\u001b[0m\u001b[0m\n\u001b[0m",
      "\u001b[1;31mTypeError\u001b[0m: 'tuple' object does not support item assignment"
     ]
    }
   ],
   "source": [
    "t[0]='vivek' #we are doing same but we can't do  this"
   ]
  },
  {
   "cell_type": "code",
   "execution_count": 16,
   "id": "20e6141b",
   "metadata": {},
   "outputs": [
    {
     "data": {
      "text/plain": [
       "(42,)"
      ]
     },
     "execution_count": 16,
     "metadata": {},
     "output_type": "execute_result"
    }
   ],
   "source": [
    "#14. How do you type a tuple value that only contains the integer 42?\n",
    "t= (42,) #we can use simple bracket and insert any item to it as shown we have use this comma otherwise it will act like integer\n",
    "t"
   ]
  },
  {
   "cell_type": "code",
   "execution_count": 17,
   "id": "378b51ef",
   "metadata": {},
   "outputs": [
    {
     "data": {
      "text/plain": [
       "tuple"
      ]
     },
     "execution_count": 17,
     "metadata": {},
     "output_type": "execute_result"
    }
   ],
   "source": [
    "type(t)"
   ]
  },
  {
   "cell_type": "code",
   "execution_count": 54,
   "id": "21ecc8f1",
   "metadata": {},
   "outputs": [
    {
     "data": {
      "text/plain": [
       "[(1,), (2,), (3,), (4,), ('jk',)]"
      ]
     },
     "execution_count": 54,
     "metadata": {},
     "output_type": "execute_result"
    }
   ],
   "source": [
    "#15. How do you get a list value's tuple form? How do you get a tuple value's list form?\n",
    "l=[1,2,3,4,'jk']\n",
    "[i for i in zip(l)] #in this way we can convert list values in types form"
   ]
  },
  {
   "cell_type": "code",
   "execution_count": 55,
   "id": "672194b0",
   "metadata": {},
   "outputs": [
    {
     "name": "stdout",
     "output_type": "stream",
     "text": [
      "([1], [2], [3])\n"
     ]
    }
   ],
   "source": [
    "t= (1,2,3) #in this way we can convert tuple values into list\n",
    "t1=()\n",
    "for i in t:\n",
    "    t1= t1+([i],)\n",
    "print(t1)"
   ]
  },
  {
   "cell_type": "markdown",
   "id": "7eeb116b",
   "metadata": {},
   "source": [
    "#16. Variables that \"contain\" list values are not necessarily lists themselves. Instead, what do they contain?\n",
    "-- A list can contain  ineger,list ,set,tuple,dictionary,string any of these written\n",
    "l = [1,'strin',[1,2,3],{1,2,3},{a:'vivek, b:'singh},(2,3,4)]\n",
    "\n"
   ]
  },
  {
   "cell_type": "markdown",
   "id": "9e31b03f",
   "metadata": {},
   "source": [
    "#17. How do you distinguish between copy.copy() and copy.deepcopy()?\n",
    "- As shown below"
   ]
  },
  {
   "cell_type": "code",
   "execution_count": 207,
   "id": "b0784c7f",
   "metadata": {},
   "outputs": [],
   "source": [
    "import copy\n"
   ]
  },
  {
   "cell_type": "code",
   "execution_count": 225,
   "id": "b9bac63e",
   "metadata": {},
   "outputs": [],
   "source": [
    "l= [[1,2,3,4],[5,4,6,7],[8,'v'],[6,7,8,9,0]] # nested list "
   ]
  },
  {
   "cell_type": "code",
   "execution_count": 226,
   "id": "439e8ce1",
   "metadata": {},
   "outputs": [],
   "source": [
    "l4= copy.copy(l) #making copy of list l or making another object which is same as l"
   ]
  },
  {
   "cell_type": "code",
   "execution_count": 227,
   "id": "d0ceb73a",
   "metadata": {},
   "outputs": [
    {
     "data": {
      "text/plain": [
       "[[1, 2, 3, 4], [5, 4, 6, 7], [8, 'v'], [6, 7, 8, 9, 0]]"
      ]
     },
     "execution_count": 227,
     "metadata": {},
     "output_type": "execute_result"
    }
   ],
   "source": [
    "l4 # same as l"
   ]
  },
  {
   "cell_type": "code",
   "execution_count": 228,
   "id": "9e0e34c4",
   "metadata": {},
   "outputs": [],
   "source": [
    "l4[1][0]='t'  #we chaning the nested object so"
   ]
  },
  {
   "cell_type": "code",
   "execution_count": 230,
   "id": "d5a38cf7",
   "metadata": {},
   "outputs": [
    {
     "data": {
      "text/plain": [
       "[[1, 2, 3, 4], ['t', 4, 6, 7], [8, 'v'], [6, 7, 8, 9, 0]]"
      ]
     },
     "execution_count": 230,
     "metadata": {},
     "output_type": "execute_result"
    }
   ],
   "source": [
    "l4 #we changed the l4"
   ]
  },
  {
   "cell_type": "code",
   "execution_count": 229,
   "id": "7865b834",
   "metadata": {},
   "outputs": [
    {
     "data": {
      "text/plain": [
       "[[1, 2, 3, 4], ['t', 4, 6, 7], [8, 'v'], [6, 7, 8, 9, 0]]"
      ]
     },
     "execution_count": 229,
     "metadata": {},
     "output_type": "execute_result"
    }
   ],
   "source": [
    "l #same change happen in l"
   ]
  },
  {
   "cell_type": "code",
   "execution_count": 231,
   "id": "048dba5c",
   "metadata": {},
   "outputs": [],
   "source": [
    "# but we cahnge the main object of list it will not replace\n",
    "l2= copy.copy(l)"
   ]
  },
  {
   "cell_type": "code",
   "execution_count": 234,
   "id": "01e4c743",
   "metadata": {},
   "outputs": [
    {
     "data": {
      "text/plain": [
       "[[1, 2, 3, 4], 't', [8, 'v'], [6, 7, 8, 9, 0]]"
      ]
     },
     "execution_count": 234,
     "metadata": {},
     "output_type": "execute_result"
    }
   ],
   "source": [
    "l2[1]='t'\n",
    "l2"
   ]
  },
  {
   "cell_type": "code",
   "execution_count": 235,
   "id": "95e9b683",
   "metadata": {},
   "outputs": [
    {
     "data": {
      "text/plain": [
       "[[1, 2, 3, 4], ['t', 4, 6, 7], [8, 'v'], [6, 7, 8, 9, 0]]"
      ]
     },
     "execution_count": 235,
     "metadata": {},
     "output_type": "execute_result"
    }
   ],
   "source": [
    "l #but there is no change in the l list"
   ]
  },
  {
   "cell_type": "code",
   "execution_count": 236,
   "id": "a45206bf",
   "metadata": {},
   "outputs": [
    {
     "data": {
      "text/plain": [
       "[[1, 2, 3, 4], ['t', 4, 6, 7], [8, 'v'], [6, 7, 8, 9, 0]]"
      ]
     },
     "execution_count": 236,
     "metadata": {},
     "output_type": "execute_result"
    }
   ],
   "source": [
    "#In case copy.deepcopy() the nested element will not change at all as in case of copy.copy()\n",
    "l"
   ]
  },
  {
   "cell_type": "code",
   "execution_count": 237,
   "id": "4f4e35db",
   "metadata": {},
   "outputs": [],
   "source": [
    "l1=copy.deepcopy(l)"
   ]
  },
  {
   "cell_type": "code",
   "execution_count": 238,
   "id": "8a0c5c3b",
   "metadata": {},
   "outputs": [
    {
     "data": {
      "text/plain": [
       "[[1, 2, 3, 4], ['t', 4, 6, 7], [8, 'v'], [6, 7, 8, 9, 0]]"
      ]
     },
     "execution_count": 238,
     "metadata": {},
     "output_type": "execute_result"
    }
   ],
   "source": [
    "l1"
   ]
  },
  {
   "cell_type": "code",
   "execution_count": 239,
   "id": "6ea3e1d0",
   "metadata": {},
   "outputs": [],
   "source": [
    "l1[0][0]= 'vivek'"
   ]
  },
  {
   "cell_type": "code",
   "execution_count": 240,
   "id": "1c20d06e",
   "metadata": {},
   "outputs": [
    {
     "data": {
      "text/plain": [
       "[['vivek', 2, 3, 4], ['t', 4, 6, 7], [8, 'v'], [6, 7, 8, 9, 0]]"
      ]
     },
     "execution_count": 240,
     "metadata": {},
     "output_type": "execute_result"
    }
   ],
   "source": [
    "l1"
   ]
  },
  {
   "cell_type": "code",
   "execution_count": 241,
   "id": "958d2aa9",
   "metadata": {},
   "outputs": [
    {
     "data": {
      "text/plain": [
       "[[1, 2, 3, 4], ['t', 4, 6, 7], [8, 'v'], [6, 7, 8, 9, 0]]"
      ]
     },
     "execution_count": 241,
     "metadata": {},
     "output_type": "execute_result"
    }
   ],
   "source": [
    "l #as we can see no change in the orginal list"
   ]
  },
  {
   "cell_type": "code",
   "execution_count": null,
   "id": "d49a07a9",
   "metadata": {},
   "outputs": [],
   "source": []
  },
  {
   "cell_type": "code",
   "execution_count": null,
   "id": "27e12809",
   "metadata": {},
   "outputs": [],
   "source": []
  }
 ],
 "metadata": {
  "kernelspec": {
   "display_name": "Python 3 (ipykernel)",
   "language": "python",
   "name": "python3"
  },
  "language_info": {
   "codemirror_mode": {
    "name": "ipython",
    "version": 3
   },
   "file_extension": ".py",
   "mimetype": "text/x-python",
   "name": "python",
   "nbconvert_exporter": "python",
   "pygments_lexer": "ipython3",
   "version": "3.9.7"
  }
 },
 "nbformat": 4,
 "nbformat_minor": 5
}
