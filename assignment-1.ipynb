{
 "cells": [
  {
   "cell_type": "markdown",
   "id": "81ad1a4a",
   "metadata": {},
   "source": [
    "1. In the below elements which of them are values or an expression? eg:- values can be integer or string and expressions will be mathematical operators.\n",
    "- * is a mathmatical operator hence expression, '*' is a string means values\n",
    "- 'hello' is a values\n",
    "- -87.5 is a values\n",
    "- - is a operator hence  expression\n",
    "- / is operator hence expression\n",
    "- + is operator hence expression\n",
    "- 6 is integer hence expression"
   ]
  },
  {
   "cell_type": "markdown",
   "id": "467552db",
   "metadata": {},
   "source": [
    "2. What is the difference between string and variable?\n",
    "- String : it made of cahracters which includes any key in the keypad but it should be in the ('') or double quotes (\"\") like     this\n",
    "- variable: it is made by user which value can be changed it can be string, integer, float.\n",
    "eg:-  j = 'vivek' \n",
    "   in this example j is a variable and 'vivek' is a string ."
   ]
  },
  {
   "cell_type": "markdown",
   "id": "7f69f17a",
   "metadata": {},
   "source": [
    "3. Describe three different data types.\n",
    "- string- it can be any character in the keypad which means any number,alphabet,sepical symbol etc. But it should be in these ''or \"\" coma example : 'viek sklfs13131412@'\n",
    "- int- it is integer which means any number but not in decimal form. example: 125,25,-6\n",
    "- float- it is used in decimal form of any number example: 12.0,123.145,-9.04.-1.0 "
   ]
  },
  {
   "cell_type": "markdown",
   "id": "42bc57e1",
   "metadata": {},
   "source": [
    "4. After running the following code, what does the variable bacon contain ? bacon = 22 bacon + 1\n",
    "- After the running the code bacon =22 beacause their is no change in the bacon value\n"
   ]
  },
  {
   "cell_type": "markdown",
   "id": "33d60cf7",
   "metadata": {},
   "source": [
    "5. What should the values of the following two terms be?\n",
    "'spam' + 'spamspam'\n",
    "'spam' * 3\n",
    "there is no difference in the output as shown below\n"
   ]
  },
  {
   "cell_type": "code",
   "execution_count": 1,
   "id": "e3b9abce",
   "metadata": {},
   "outputs": [
    {
     "data": {
      "text/plain": [
       "'spamspamsapm'"
      ]
     },
     "execution_count": 1,
     "metadata": {},
     "output_type": "execute_result"
    }
   ],
   "source": [
    "'spam'+ 'spamspam'"
   ]
  },
  {
   "cell_type": "code",
   "execution_count": 2,
   "id": "0a4fd8d5",
   "metadata": {},
   "outputs": [
    {
     "data": {
      "text/plain": [
       "'spamspamspam'"
      ]
     },
     "execution_count": 2,
     "metadata": {},
     "output_type": "execute_result"
    }
   ],
   "source": [
    "'spam'*3"
   ]
  },
  {
   "cell_type": "markdown",
   "id": "03b92d50",
   "metadata": {},
   "source": [
    "6. Why is eggs a valid variable name while 100 is invalid?\n",
    "- there are some rues for defining the variable.It should not start interger and special characters and includes no special characters as shown below 100 = 'vivek' is showning error"
   ]
  },
  {
   "cell_type": "code",
   "execution_count": 1,
   "id": "bb7aeb33",
   "metadata": {},
   "outputs": [
    {
     "ename": "SyntaxError",
     "evalue": "cannot assign to literal (Temp/ipykernel_7256/3294872858.py, line 1)",
     "output_type": "error",
     "traceback": [
      "\u001b[1;36m  File \u001b[1;32m\"C:\\Users\\laptop\\AppData\\Local\\Temp/ipykernel_7256/3294872858.py\"\u001b[1;36m, line \u001b[1;32m1\u001b[0m\n\u001b[1;33m    100= 'vivek'\u001b[0m\n\u001b[1;37m    ^\u001b[0m\n\u001b[1;31mSyntaxError\u001b[0m\u001b[1;31m:\u001b[0m cannot assign to literal\n"
     ]
    }
   ],
   "source": [
    "100= 'vivek'"
   ]
  },
  {
   "cell_type": "code",
   "execution_count": 6,
   "id": "5337a954",
   "metadata": {},
   "outputs": [],
   "source": [
    "egg= 'viem'"
   ]
  },
  {
   "cell_type": "code",
   "execution_count": 7,
   "id": "f34dfde9",
   "metadata": {},
   "outputs": [
    {
     "data": {
      "text/plain": [
       "'viem'"
      ]
     },
     "execution_count": 7,
     "metadata": {},
     "output_type": "execute_result"
    }
   ],
   "source": [
    "egg"
   ]
  },
  {
   "cell_type": "markdown",
   "id": "f71d879d",
   "metadata": {},
   "source": [
    "7. What three functions can be used to get the integer, floating-point number, or string version of a value?\n",
    "- int() used for interger\n",
    "- float() used for decimal\n",
    "- str() used for string"
   ]
  },
  {
   "cell_type": "markdown",
   "id": "dea1267f",
   "metadata": {},
   "source": [
    "8. Why does this expression cause an error? How can you fix it?\n",
    "'I have eaten ' + 99 + ' burritos.'\n",
    "- as we can see that it showning error of concatenate which means we can only add string with string not with interger which 99 in this case so we have to convert the 99 into string \n"
   ]
  },
  {
   "cell_type": "code",
   "execution_count": 11,
   "id": "9863357a",
   "metadata": {},
   "outputs": [
    {
     "ename": "TypeError",
     "evalue": "can only concatenate str (not \"int\") to str",
     "output_type": "error",
     "traceback": [
      "\u001b[1;31m---------------------------------------------------------------------------\u001b[0m",
      "\u001b[1;31mTypeError\u001b[0m                                 Traceback (most recent call last)",
      "\u001b[1;32m~\\AppData\\Local\\Temp/ipykernel_2148/1774935878.py\u001b[0m in \u001b[0;36m<module>\u001b[1;34m\u001b[0m\n\u001b[1;32m----> 1\u001b[1;33m \u001b[1;34m'I have eaten '\u001b[0m \u001b[1;33m+\u001b[0m \u001b[1;36m99\u001b[0m \u001b[1;33m+\u001b[0m \u001b[1;34m' burritos.'\u001b[0m\u001b[1;33m\u001b[0m\u001b[1;33m\u001b[0m\u001b[0m\n\u001b[0m",
      "\u001b[1;31mTypeError\u001b[0m: can only concatenate str (not \"int\") to str"
     ]
    }
   ],
   "source": [
    "'I have eaten ' + 99 + ' burritos.'"
   ]
  },
  {
   "cell_type": "code",
   "execution_count": 12,
   "id": "0dbc7fd2",
   "metadata": {},
   "outputs": [
    {
     "data": {
      "text/plain": [
       "'I have eaten 99 burritos.'"
      ]
     },
     "execution_count": 12,
     "metadata": {},
     "output_type": "execute_result"
    }
   ],
   "source": [
    "'I have eaten ' + str(99) + ' burritos.'"
   ]
  },
  {
   "cell_type": "code",
   "execution_count": 13,
   "id": "8fe186a9",
   "metadata": {},
   "outputs": [
    {
     "data": {
      "text/plain": [
       "'I have eaten 99 burritos.'"
      ]
     },
     "execution_count": 13,
     "metadata": {},
     "output_type": "execute_result"
    }
   ],
   "source": [
    "'I have eaten ' + '99' + ' burritos.'"
   ]
  },
  {
   "cell_type": "markdown",
   "id": "d840c208",
   "metadata": {},
   "source": [
    "9. What is an expression made up of? What do all expressions do?\n",
    "-- An expression  made up of constants,variables,operators. It consist of zero or more operators.It is use to calculate the value\n"
   ]
  },
  {
   "cell_type": "markdown",
   "id": "bb1613f5",
   "metadata": {},
   "source": [
    "10. This assignment statements, like spam = 10. What is the difference between an expression and a statement?\n",
    "--Expression consist of operators,variables,constant. Statement is just simple line in python code.All expressions are statements"
   ]
  }
 ],
 "metadata": {
  "kernelspec": {
   "display_name": "Python 3 (ipykernel)",
   "language": "python",
   "name": "python3"
  },
  "language_info": {
   "codemirror_mode": {
    "name": "ipython",
    "version": 3
   },
   "file_extension": ".py",
   "mimetype": "text/x-python",
   "name": "python",
   "nbconvert_exporter": "python",
   "pygments_lexer": "ipython3",
   "version": "3.9.7"
  }
 },
 "nbformat": 4,
 "nbformat_minor": 5
}
