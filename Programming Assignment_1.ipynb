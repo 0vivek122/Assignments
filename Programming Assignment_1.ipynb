{
 "cells": [
  {
   "cell_type": "code",
   "execution_count": 1,
   "id": "110ba8e0",
   "metadata": {},
   "outputs": [
    {
     "name": "stdout",
     "output_type": "stream",
     "text": [
      "Hello Python\n"
     ]
    }
   ],
   "source": [
    "#1.\tWrite a Python program to print \"Hello Python\"?\n",
    "print('Hello Python')"
   ]
  },
  {
   "cell_type": "code",
   "execution_count": 5,
   "id": "91f9a306",
   "metadata": {},
   "outputs": [
    {
     "name": "stdout",
     "output_type": "stream",
     "text": [
      "Welcome to sum and division\n",
      "Enter the value of a:78\n",
      "Enter the operator:-\n",
      "Enter the value of b:52\n",
      "You entered the wrong operator\n"
     ]
    }
   ],
   "source": [
    "#2.\tWrite a Python program to do arithmetical operations addition and division.?\n",
    "print(\"Welcome to sum and division\")\n",
    "\n",
    "a= int(input('Enter the value of a:'))\n",
    "o= input('Enter the operator:')\n",
    "b= int(input('Enter the value of b:'))\n",
    "if o=='+':\n",
    "    print('the value of sum is ',a+b)\n",
    "elif o=='/':\n",
    "    print('the value of division is ',a/b)\n",
    "else:\n",
    "    print('You entered the wrong operator')"
   ]
  },
  {
   "cell_type": "code",
   "execution_count": 11,
   "id": "9462c95f",
   "metadata": {},
   "outputs": [
    {
     "name": "stdout",
     "output_type": "stream",
     "text": [
      "Area of triangle\n",
      "Enter the side :10\n",
      "Enter the side :5\n",
      "Enter the side :6\n",
      "Area of the triangle 11.399013115177997\n"
     ]
    }
   ],
   "source": [
    "#3.\tWrite a Python program to find the area of a triangle?\n",
    "print('Area of triangle')\n",
    "a= float(input('Enter the side :'))\n",
    "b= float(input('Enter the side :'))\n",
    "c= float(input('Enter the side :'))\n",
    "s=(a+b+c)/2\n",
    "area= (s*(s-a)*(s-b)*(s-c))**0.5\n",
    "print('Area of the triangle '+str(area))"
   ]
  },
  {
   "cell_type": "code",
   "execution_count": 12,
   "id": "b47baed4",
   "metadata": {},
   "outputs": [],
   "source": [
    "#4.\tWrite a Python program to swap two variables?\n",
    "a=4\n",
    "b=10\n",
    "t= a\n",
    "a=b\n",
    "b=t"
   ]
  },
  {
   "cell_type": "code",
   "execution_count": 13,
   "id": "d2a4506a",
   "metadata": {},
   "outputs": [
    {
     "data": {
      "text/plain": [
       "10"
      ]
     },
     "execution_count": 13,
     "metadata": {},
     "output_type": "execute_result"
    }
   ],
   "source": [
    "a"
   ]
  },
  {
   "cell_type": "code",
   "execution_count": 14,
   "id": "50ec4379",
   "metadata": {},
   "outputs": [
    {
     "data": {
      "text/plain": [
       "4"
      ]
     },
     "execution_count": 14,
     "metadata": {},
     "output_type": "execute_result"
    }
   ],
   "source": [
    "b"
   ]
  },
  {
   "cell_type": "code",
   "execution_count": 16,
   "id": "99444ec1",
   "metadata": {},
   "outputs": [],
   "source": [
    "#5.\tWrite a Python program to generate a random number?\n",
    "import random\n"
   ]
  },
  {
   "cell_type": "code",
   "execution_count": 17,
   "id": "30b3cd9c",
   "metadata": {},
   "outputs": [
    {
     "data": {
      "text/plain": [
       "0.2925584311031527"
      ]
     },
     "execution_count": 17,
     "metadata": {},
     "output_type": "execute_result"
    }
   ],
   "source": [
    "random.random()"
   ]
  },
  {
   "cell_type": "code",
   "execution_count": 18,
   "id": "0ff6c4f0",
   "metadata": {},
   "outputs": [
    {
     "data": {
      "text/plain": [
       "0.6253586483316212"
      ]
     },
     "execution_count": 18,
     "metadata": {},
     "output_type": "execute_result"
    }
   ],
   "source": [
    "random.random()"
   ]
  },
  {
   "cell_type": "code",
   "execution_count": 19,
   "id": "aebdd08e",
   "metadata": {},
   "outputs": [
    {
     "data": {
      "text/plain": [
       "0.7155822533793225"
      ]
     },
     "execution_count": 19,
     "metadata": {},
     "output_type": "execute_result"
    }
   ],
   "source": [
    "random.random()"
   ]
  },
  {
   "cell_type": "code",
   "execution_count": 20,
   "id": "9d8058e5",
   "metadata": {},
   "outputs": [
    {
     "data": {
      "text/plain": [
       "0.46621016608287036"
      ]
     },
     "execution_count": 20,
     "metadata": {},
     "output_type": "execute_result"
    }
   ],
   "source": [
    "random.random()"
   ]
  },
  {
   "cell_type": "code",
   "execution_count": 29,
   "id": "cf7df69a",
   "metadata": {},
   "outputs": [
    {
     "data": {
      "text/plain": [
       "81"
      ]
     },
     "execution_count": 29,
     "metadata": {},
     "output_type": "execute_result"
    }
   ],
   "source": [
    "random.randint(1,100) #this will give random number between 1 to 100"
   ]
  },
  {
   "cell_type": "code",
   "execution_count": null,
   "id": "f5446035",
   "metadata": {},
   "outputs": [],
   "source": []
  },
  {
   "cell_type": "code",
   "execution_count": null,
   "id": "dbf0acf1",
   "metadata": {},
   "outputs": [],
   "source": []
  }
 ],
 "metadata": {
  "kernelspec": {
   "display_name": "Python 3 (ipykernel)",
   "language": "python",
   "name": "python3"
  },
  "language_info": {
   "codemirror_mode": {
    "name": "ipython",
    "version": 3
   },
   "file_extension": ".py",
   "mimetype": "text/x-python",
   "name": "python",
   "nbconvert_exporter": "python",
   "pygments_lexer": "ipython3",
   "version": "3.9.7"
  }
 },
 "nbformat": 4,
 "nbformat_minor": 5
}
