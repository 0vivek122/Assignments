{
 "cells": [
  {
   "cell_type": "markdown",
   "id": "a2f3980a",
   "metadata": {},
   "source": [
    "#1. What are escape characters, and how do you use them?\n",
    "- Escape characters are those which  help in including the illegal character in the string as shown below with use of '\\'"
   ]
  },
  {
   "cell_type": "code",
   "execution_count": 3,
   "id": "5f8760ce",
   "metadata": {},
   "outputs": [
    {
     "ename": "SyntaxError",
     "evalue": "invalid syntax (Temp/ipykernel_620/4211841194.py, line 1)",
     "output_type": "error",
     "traceback": [
      "\u001b[1;36m  File \u001b[1;32m\"C:\\Users\\laptop\\AppData\\Local\\Temp/ipykernel_620/4211841194.py\"\u001b[1;36m, line \u001b[1;32m1\u001b[0m\n\u001b[1;33m    v= 'vivek 's  water bottle' #this will show error\u001b[0m\n\u001b[1;37m               ^\u001b[0m\n\u001b[1;31mSyntaxError\u001b[0m\u001b[1;31m:\u001b[0m invalid syntax\n"
     ]
    }
   ],
   "source": [
    "v= 'vivek 's  water bottle' #this will show error"
   ]
  },
  {
   "cell_type": "code",
   "execution_count": 6,
   "id": "309be5cf",
   "metadata": {},
   "outputs": [
    {
     "data": {
      "text/plain": [
       "\"vivek 's  water bottle\""
      ]
     },
     "execution_count": 6,
     "metadata": {},
     "output_type": "execute_result"
    }
   ],
   "source": [
    "v= 'vivek \\'s  water bottle'  #this will not showed erroe because backshlash is used to avoid the upcoming character\n",
    "v"
   ]
  },
  {
   "cell_type": "markdown",
   "id": "5b79614e",
   "metadata": {},
   "source": [
    "#2. What do the escape characters n and t stand for?\n",
    "--\\n is used to make new line and \\t is used to make 4 white space"
   ]
  },
  {
   "cell_type": "code",
   "execution_count": 24,
   "id": "9aa4b855",
   "metadata": {},
   "outputs": [
    {
     "name": "stdout",
     "output_type": "stream",
     "text": [
      "vivek\n",
      "singh\n"
     ]
    }
   ],
   "source": [
    "print('vivek\\nsingh') "
   ]
  },
  {
   "cell_type": "code",
   "execution_count": 25,
   "id": "d3905090",
   "metadata": {},
   "outputs": [
    {
     "name": "stdout",
     "output_type": "stream",
     "text": [
      "vivek\tsingh\n"
     ]
    }
   ],
   "source": [
    "print('vivek\\tsingh')"
   ]
  },
  {
   "cell_type": "code",
   "execution_count": 27,
   "id": "bbf759d7",
   "metadata": {},
   "outputs": [
    {
     "name": "stdout",
     "output_type": "stream",
     "text": [
      "vivek\\tsingh\n"
     ]
    }
   ],
   "source": [
    "#3. What is the way to include backslash characters in a string?\n",
    "print('vivek\\\\tsingh') #by using \\\\ can include \\character in the string"
   ]
  },
  {
   "cell_type": "code",
   "execution_count": 28,
   "id": "89253318",
   "metadata": {},
   "outputs": [
    {
     "name": "stdout",
     "output_type": "stream",
     "text": [
      "Howl's Moving Castle\n"
     ]
    }
   ],
   "source": [
    "#4. The string \"Howl's Moving Castle\" is a correct value. Why isn't the single quote character in the word Howl's not escaped a problem?\n",
    "print(\"Howl's Moving Castle\") #this will print easily there will no issue for compiler\n"
   ]
  },
  {
   "cell_type": "code",
   "execution_count": 29,
   "id": "8fd0a03b",
   "metadata": {},
   "outputs": [
    {
     "ename": "SyntaxError",
     "evalue": "invalid syntax (Temp/ipykernel_296/4031632373.py, line 1)",
     "output_type": "error",
     "traceback": [
      "\u001b[1;36m  File \u001b[1;32m\"C:\\Users\\laptop\\AppData\\Local\\Temp/ipykernel_296/4031632373.py\"\u001b[1;36m, line \u001b[1;32m1\u001b[0m\n\u001b[1;33m    print('Howl's Moving Castle') #this will issue because when compiler see that single inverted cooma in starting of the string it will by default set that thid will end with singe inverted comma so tha why there are two single inverted comma availale so it will confuse the compiler\u001b[0m\n\u001b[1;37m                ^\u001b[0m\n\u001b[1;31mSyntaxError\u001b[0m\u001b[1;31m:\u001b[0m invalid syntax\n"
     ]
    }
   ],
   "source": [
    "print('Howl's Moving Castle') #this will issue because when compiler see that single inverted cooma in starting of the string it will by default set that thid will end with singe inverted comma so tha why there are two single inverted comma availale so it will confuse the compiler"
   ]
  },
  {
   "cell_type": "code",
   "execution_count": 30,
   "id": "c81d9bbd",
   "metadata": {},
   "outputs": [
    {
     "name": "stdout",
     "output_type": "stream",
     "text": [
      "this is best way\n",
      "for everyone \n"
     ]
    }
   ],
   "source": [
    "#5. How do you write a string of newlines if you don't want to use the n character?\n",
    "print('''this is best way\n",
    "for everyone ''')   #by using triple inverted comma we va=can simple get new line as many as we want"
   ]
  },
  {
   "cell_type": "code",
   "execution_count": null,
   "id": "b07a2e9b",
   "metadata": {},
   "outputs": [],
   "source": [
    "#6. What are the values of the given expressions?"
   ]
  },
  {
   "cell_type": "code",
   "execution_count": 31,
   "id": "452c9e93",
   "metadata": {},
   "outputs": [
    {
     "data": {
      "text/plain": [
       "'e'"
      ]
     },
     "execution_count": 31,
     "metadata": {},
     "output_type": "execute_result"
    }
   ],
   "source": [
    "v= 'Hello, world!'\n",
    "v[1] #this will give the character which will have one index in this 'e' having index one"
   ]
  },
  {
   "cell_type": "code",
   "execution_count": 32,
   "id": "539a930b",
   "metadata": {},
   "outputs": [
    {
     "data": {
      "text/plain": [
       "'Hello'"
      ]
     },
     "execution_count": 32,
     "metadata": {},
     "output_type": "execute_result"
    }
   ],
   "source": [
    "v='Hello, world!'\n",
    "v[0:5] #this will give element from zero index to 4"
   ]
  },
  {
   "cell_type": "code",
   "execution_count": 33,
   "id": "39c5f974",
   "metadata": {},
   "outputs": [
    {
     "data": {
      "text/plain": [
       "'Hello'"
      ]
     },
     "execution_count": 33,
     "metadata": {},
     "output_type": "execute_result"
    }
   ],
   "source": [
    "v='Hello, world!'\n",
    "v[:5] #by default it will start from zero to 4 "
   ]
  },
  {
   "cell_type": "code",
   "execution_count": 34,
   "id": "ed40bc03",
   "metadata": {},
   "outputs": [
    {
     "data": {
      "text/plain": [
       "'lo, world!'"
      ]
     },
     "execution_count": 34,
     "metadata": {},
     "output_type": "execute_result"
    }
   ],
   "source": [
    "v='Hello, world!'\n",
    "v[3:] #this will give start from 3 index and by default it will end at last index\n"
   ]
  },
  {
   "cell_type": "code",
   "execution_count": null,
   "id": "9cd0abba",
   "metadata": {},
   "outputs": [],
   "source": [
    "#7. What are the values of the following expressions?"
   ]
  },
  {
   "cell_type": "code",
   "execution_count": 35,
   "id": "c058bede",
   "metadata": {},
   "outputs": [
    {
     "data": {
      "text/plain": [
       "'HELLO'"
      ]
     },
     "execution_count": 35,
     "metadata": {},
     "output_type": "execute_result"
    }
   ],
   "source": [
    "'Hello'.upper() #this covert every alphabet of this string into capital letter"
   ]
  },
  {
   "cell_type": "code",
   "execution_count": 36,
   "id": "6f1083b6",
   "metadata": {},
   "outputs": [
    {
     "data": {
      "text/plain": [
       "True"
      ]
     },
     "execution_count": 36,
     "metadata": {},
     "output_type": "execute_result"
    }
   ],
   "source": [
    "'Hello'.upper().isupper() #'Hello'.upper() this will convert whole string into capital letter and this isupper() wil check is it in capita letter"
   ]
  },
  {
   "cell_type": "code",
   "execution_count": 37,
   "id": "c6b60113",
   "metadata": {},
   "outputs": [
    {
     "data": {
      "text/plain": [
       "'hello'"
      ]
     },
     "execution_count": 37,
     "metadata": {},
     "output_type": "execute_result"
    }
   ],
   "source": [
    "'Hello'.upper().lower() #'Hello'.upper() this will goes in way as expalined above and lower() this will convert whole into small letter "
   ]
  },
  {
   "cell_type": "code",
   "execution_count": null,
   "id": "b674338a",
   "metadata": {},
   "outputs": [],
   "source": [
    "#8. What are the values of the following expressions?\n",
    "\n",
    "\n"
   ]
  },
  {
   "cell_type": "code",
   "execution_count": 38,
   "id": "24bbb9c0",
   "metadata": {},
   "outputs": [
    {
     "data": {
      "text/plain": [
       "['Remember,', 'remember,', 'the', 'fifth', 'of', 'July.']"
      ]
     },
     "execution_count": 38,
     "metadata": {},
     "output_type": "execute_result"
    }
   ],
   "source": [
    "'Remember, remember, the fifth of July.'.split() #split will break the string in list on the basis of space"
   ]
  },
  {
   "cell_type": "code",
   "execution_count": 39,
   "id": "e9ffcc0a",
   "metadata": {},
   "outputs": [
    {
     "data": {
      "text/plain": [
       "['There', 'can', 'only', 'one.']"
      ]
     },
     "execution_count": 39,
     "metadata": {},
     "output_type": "execute_result"
    }
   ],
   "source": [
    "#'-'.join('There can only one.'.split())\n",
    "v='There can only one.'.split()   # this will do as same as done above\n",
    "v  "
   ]
  },
  {
   "cell_type": "code",
   "execution_count": 40,
   "id": "d1c47536",
   "metadata": {},
   "outputs": [
    {
     "data": {
      "text/plain": [
       "'There-can-only-one.'"
      ]
     },
     "execution_count": 40,
     "metadata": {},
     "output_type": "execute_result"
    }
   ],
   "source": [
    "'-'.join(v) #it wil join v list element with '-'"
   ]
  },
  {
   "cell_type": "code",
   "execution_count": 44,
   "id": "487d76ff",
   "metadata": {},
   "outputs": [],
   "source": [
    "#9. What are the methods for right-justifying, left-justifying, and centering a string?"
   ]
  },
  {
   "cell_type": "code",
   "execution_count": 52,
   "id": "e672480d",
   "metadata": {},
   "outputs": [
    {
     "data": {
      "text/plain": [
       "'              banana'"
      ]
     },
     "execution_count": 52,
     "metadata": {},
     "output_type": "execute_result"
    }
   ],
   "source": [
    "txt = \"banana\"\n",
    "txt.rjust(20) #this will leave the space left after the writing banana from 20 in right"
   ]
  },
  {
   "cell_type": "code",
   "execution_count": 54,
   "id": "bcf8713f",
   "metadata": {},
   "outputs": [
    {
     "data": {
      "text/plain": [
       "'banana              '"
      ]
     },
     "execution_count": 54,
     "metadata": {},
     "output_type": "execute_result"
    }
   ],
   "source": [
    "txt = \"banana\"\n",
    "txt.ljust(20) #this will leave the space left after the writing banana from 20 in left"
   ]
  },
  {
   "cell_type": "code",
   "execution_count": 56,
   "id": "675e0d73",
   "metadata": {},
   "outputs": [
    {
     "data": {
      "text/plain": [
       "'       banana       '"
      ]
     },
     "execution_count": 56,
     "metadata": {},
     "output_type": "execute_result"
    }
   ],
   "source": [
    "txt = \"banana\"\n",
    "txt.center(20) #this will leave the space left after the writing banana from 20 in cente and leave spce botth the side"
   ]
  },
  {
   "cell_type": "code",
   "execution_count": 58,
   "id": "7e7dfb86",
   "metadata": {},
   "outputs": [
    {
     "data": {
      "text/plain": [
       "'singhb  bb'"
      ]
     },
     "execution_count": 58,
     "metadata": {},
     "output_type": "execute_result"
    }
   ],
   "source": [
    "#10. What is the best way to remove whitespace characters from the start or end?\n",
    "v= '  singhb  bb     '\n",
    "v.strip() #we cant cut the white space from start and end of the string"
   ]
  },
  {
   "cell_type": "code",
   "execution_count": null,
   "id": "95f39064",
   "metadata": {},
   "outputs": [],
   "source": []
  }
 ],
 "metadata": {
  "kernelspec": {
   "display_name": "Python 3 (ipykernel)",
   "language": "python",
   "name": "python3"
  },
  "language_info": {
   "codemirror_mode": {
    "name": "ipython",
    "version": 3
   },
   "file_extension": ".py",
   "mimetype": "text/x-python",
   "name": "python",
   "nbconvert_exporter": "python",
   "pygments_lexer": "ipython3",
   "version": "3.9.7"
  }
 },
 "nbformat": 4,
 "nbformat_minor": 5
}
