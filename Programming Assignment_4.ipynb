{
 "cells": [
  {
   "cell_type": "code",
   "execution_count": 3,
   "id": "9330da5b",
   "metadata": {},
   "outputs": [
    {
     "name": "stdout",
     "output_type": "stream",
     "text": [
      "Enter the number to check Factorial :7\n",
      "the value of 7 factorial is 5040\n"
     ]
    }
   ],
   "source": [
    "#1.\tWrite a Python Program to Find the Factorial of a Number?\n",
    "n= int(input('Enter the number to check Factorial :'))\n",
    "i=1\n",
    "m=1\n",
    "while i<=n:\n",
    "    m=m*i\n",
    "    i=i+1\n",
    "print(f'the value of {n} factorial is {m}')\n",
    "    "
   ]
  },
  {
   "cell_type": "code",
   "execution_count": 8,
   "id": "a94f6dd6",
   "metadata": {},
   "outputs": [
    {
     "name": "stdout",
     "output_type": "stream",
     "text": [
      "Enter the for table: 19\n",
      "19 * 1 = 19\n",
      "19 * 2 = 38\n",
      "19 * 3 = 57\n",
      "19 * 4 = 76\n",
      "19 * 5 = 95\n",
      "19 * 6 = 114\n",
      "19 * 7 = 133\n",
      "19 * 8 = 152\n",
      "19 * 9 = 171\n",
      "19 * 10 = 190\n"
     ]
    }
   ],
   "source": [
    "#2.\tWrite a Python Program to Display the multiplication Table?\n",
    "n= int(input('Enter the for table: '))\n",
    "i=1\n",
    "\n",
    "while i<=10:\n",
    "    print(f'{n} * {i} = {n*i}')\n",
    "    i=i+1"
   ]
  },
  {
   "cell_type": "code",
   "execution_count": 12,
   "id": "73fa9758",
   "metadata": {},
   "outputs": [
    {
     "name": "stdout",
     "output_type": "stream",
     "text": [
      "Enter the for series: 6\n",
      "[1, 1, 2, 3, 5, 8]\n"
     ]
    }
   ],
   "source": [
    "#3.\tWrite a Python Program to Print the Fibonacci sequence?\n",
    "n= int(input('Enter the for series: '))\n",
    "a=1\n",
    "b=1\n",
    "l=[]\n",
    "for i in range(n):\n",
    "    l.append(a)\n",
    "    t=a\n",
    "    a=b\n",
    "    \n",
    "    b=t+a\n",
    "print(l)    \n",
    "    \n",
    "    "
   ]
  },
  {
   "cell_type": "code",
   "execution_count": 7,
   "id": "5497072c",
   "metadata": {},
   "outputs": [
    {
     "name": "stdout",
     "output_type": "stream",
     "text": [
      "Enter the number: 1634\n",
      "Yes number is armstrong\n"
     ]
    }
   ],
   "source": [
    "#4.\tWrite a Python Program to Check Armstrong Number?\n",
    "n=input('Enter the number: ')\n",
    "s=0\n",
    "p=len(n)\n",
    "for i in range(len(n)):\n",
    "    s= s+ int(n[i])**p\n",
    "if int(n)==s:\n",
    "    print('Yes number is armstrong')\n",
    "else:\n",
    "    print('It is not')"
   ]
  },
  {
   "cell_type": "code",
   "execution_count": 8,
   "id": "6c403aa0",
   "metadata": {},
   "outputs": [
    {
     "name": "stdout",
     "output_type": "stream",
     "text": [
      "enter the interval lower point: 100\n",
      "Enter the interval upper point: 2000\n",
      "[153, 370, 371, 407, 1634]\n"
     ]
    }
   ],
   "source": [
    "#5.\tWrite a Python Program to Find Armstrong Number in an Interval?\n",
    "k = int(input('enter the interval lower point: '))\n",
    "v = int(input('Enter the interval upper point: '))\n",
    "l=[]\n",
    "for n in range(k,v+1):\n",
    "    h=str(n)\n",
    "    s=0\n",
    "    p= len(h)\n",
    "    for i in range(len(h)):\n",
    "        s= s+ int(h[i])**p\n",
    "    if int(h)==s:\n",
    "        l.append(s)\n",
    "    else:\n",
    "        pass\n",
    "print(l)\n",
    "    "
   ]
  },
  {
   "cell_type": "code",
   "execution_count": 12,
   "id": "e5ae2b38",
   "metadata": {},
   "outputs": [
    {
     "name": "stdout",
     "output_type": "stream",
     "text": [
      "Enter the of n: 16\n",
      "The sum of 16 natural number is 136\n"
     ]
    }
   ],
   "source": [
    "#6.\tWrite a Python Program to Find the Sum of Natural Numbers?\n",
    "x= int(input('Enter the of n: '))\n",
    "s=0\n",
    "for i in range(1,x+1):\n",
    "    s=s+i\n",
    "print(f'The sum of {x} natural number is {s}')"
   ]
  },
  {
   "cell_type": "code",
   "execution_count": null,
   "id": "752cbe6e",
   "metadata": {},
   "outputs": [],
   "source": []
  }
 ],
 "metadata": {
  "kernelspec": {
   "display_name": "Python 3 (ipykernel)",
   "language": "python",
   "name": "python3"
  },
  "language_info": {
   "codemirror_mode": {
    "name": "ipython",
    "version": 3
   },
   "file_extension": ".py",
   "mimetype": "text/x-python",
   "name": "python",
   "nbconvert_exporter": "python",
   "pygments_lexer": "ipython3",
   "version": "3.9.7"
  }
 },
 "nbformat": 4,
 "nbformat_minor": 5
}
