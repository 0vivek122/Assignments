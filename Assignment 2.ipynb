{
 "cells": [
  {
   "cell_type": "markdown",
   "id": "74098907",
   "metadata": {},
   "source": [
    "1.What are the two values of the Boolean data type? How do you write them?\n",
    "-The two values are True and False. In the same way we write them"
   ]
  },
  {
   "cell_type": "markdown",
   "id": "defb6623",
   "metadata": {},
   "source": [
    "2. What are the three different types of Boolean operators?\n",
    "- the three are and,or,not and these give answer in boolean values that is either True or False\n"
   ]
  },
  {
   "cell_type": "markdown",
   "id": "bfde9192",
   "metadata": {},
   "source": [
    "3. Make a list of each Boolean operator's truth tables (i.e. every possible combination of Boolean values for the operator and what it evaluate ).\n",
    "- And (True=T , False= F)\n",
    "  A   B  Return\n",
    "  T   T   T\n",
    "  T   F   F\n",
    "  F   T   F\n",
    "  F   F   F\n",
    "- or\n",
    "  A   B  Return\n",
    "  T   F   T\n",
    "  F   T   T\n",
    "  F   F   F\n",
    "  T   T   T\n",
    "- Not\n",
    "  A   Return\n",
    "  T     F\n",
    "  F     T\n",
    " "
   ]
  },
  {
   "cell_type": "markdown",
   "id": "9dc6c893",
   "metadata": {},
   "source": [
    "4. What are the values of the following expressions?\n",
    "\n",
    "\n",
    "\n",
    "\n",
    "\n",
    "\n"
   ]
  },
  {
   "cell_type": "code",
   "execution_count": 10,
   "id": "5806d433",
   "metadata": {},
   "outputs": [
    {
     "data": {
      "text/plain": [
       "False"
      ]
     },
     "execution_count": 10,
     "metadata": {},
     "output_type": "execute_result"
    }
   ],
   "source": [
    "(5 > 4) and (3 == 5)"
   ]
  },
  {
   "cell_type": "code",
   "execution_count": 2,
   "id": "dc71569b",
   "metadata": {},
   "outputs": [
    {
     "data": {
      "text/plain": [
       "True"
      ]
     },
     "execution_count": 2,
     "metadata": {},
     "output_type": "execute_result"
    }
   ],
   "source": [
    "(5 > 4)"
   ]
  },
  {
   "cell_type": "code",
   "execution_count": 3,
   "id": "4490c718",
   "metadata": {},
   "outputs": [
    {
     "data": {
      "text/plain": [
       "False"
      ]
     },
     "execution_count": 3,
     "metadata": {},
     "output_type": "execute_result"
    }
   ],
   "source": [
    " (3 == 5)"
   ]
  },
  {
   "cell_type": "code",
   "execution_count": 4,
   "id": "f1950927",
   "metadata": {},
   "outputs": [
    {
     "data": {
      "text/plain": [
       "False"
      ]
     },
     "execution_count": 4,
     "metadata": {},
     "output_type": "execute_result"
    }
   ],
   "source": [
    "True and False"
   ]
  },
  {
   "cell_type": "markdown",
   "id": "ffc4f4f7",
   "metadata": {},
   "source": [
    "as we can see above that 5>4 is True,3==5 will be false and in 3rd question we have already explained about True and False will be False"
   ]
  },
  {
   "cell_type": "code",
   "execution_count": 11,
   "id": "be020236",
   "metadata": {},
   "outputs": [
    {
     "data": {
      "text/plain": [
       "False"
      ]
     },
     "execution_count": 11,
     "metadata": {},
     "output_type": "execute_result"
    }
   ],
   "source": [
    "not (5 > 4)"
   ]
  },
  {
   "cell_type": "code",
   "execution_count": 5,
   "id": "6bccbec7",
   "metadata": {},
   "outputs": [
    {
     "data": {
      "text/plain": [
       "True"
      ]
     },
     "execution_count": 5,
     "metadata": {},
     "output_type": "execute_result"
    }
   ],
   "source": [
    " (5 > 4)"
   ]
  },
  {
   "cell_type": "code",
   "execution_count": 7,
   "id": "1aaa0ed6",
   "metadata": {},
   "outputs": [
    {
     "data": {
      "text/plain": [
       "False"
      ]
     },
     "execution_count": 7,
     "metadata": {},
     "output_type": "execute_result"
    }
   ],
   "source": [
    "not (True)"
   ]
  },
  {
   "cell_type": "markdown",
   "id": "0e0ebbc4",
   "metadata": {},
   "source": [
    "as you can see 5>4 is True and not(True) turned out be False"
   ]
  },
  {
   "cell_type": "code",
   "execution_count": 13,
   "id": "debe75b4",
   "metadata": {},
   "outputs": [
    {
     "data": {
      "text/plain": [
       "True"
      ]
     },
     "execution_count": 13,
     "metadata": {},
     "output_type": "execute_result"
    }
   ],
   "source": [
    "(5 > 4) or (3 == 5)"
   ]
  },
  {
   "cell_type": "markdown",
   "id": "74f40c1f",
   "metadata": {},
   "source": [
    "as we can saw above that 5>4 will be True and 3==4 will be False and True or False will be True"
   ]
  },
  {
   "cell_type": "code",
   "execution_count": 9,
   "id": "5cea2914",
   "metadata": {},
   "outputs": [
    {
     "data": {
      "text/plain": [
       "False"
      ]
     },
     "execution_count": 9,
     "metadata": {},
     "output_type": "execute_result"
    }
   ],
   "source": [
    "not ((5 > 4) or (3 == 5))"
   ]
  },
  {
   "cell_type": "markdown",
   "id": "4d4e5606",
   "metadata": {},
   "source": [
    "as we seen above (5 > 4) or (3 == 5) will give True ,not(True) will be False"
   ]
  },
  {
   "cell_type": "code",
   "execution_count": 14,
   "id": "1421c731",
   "metadata": {},
   "outputs": [
    {
     "data": {
      "text/plain": [
       "False"
      ]
     },
     "execution_count": 14,
     "metadata": {},
     "output_type": "execute_result"
    }
   ],
   "source": [
    "(True and True) and (True == False)"
   ]
  },
  {
   "cell_type": "code",
   "execution_count": 15,
   "id": "e97c2fa7",
   "metadata": {},
   "outputs": [
    {
     "data": {
      "text/plain": [
       "True"
      ]
     },
     "execution_count": 15,
     "metadata": {},
     "output_type": "execute_result"
    }
   ],
   "source": [
    "(True and True)"
   ]
  },
  {
   "cell_type": "code",
   "execution_count": 16,
   "id": "c01934d5",
   "metadata": {},
   "outputs": [
    {
     "data": {
      "text/plain": [
       "False"
      ]
     },
     "execution_count": 16,
     "metadata": {},
     "output_type": "execute_result"
    }
   ],
   "source": [
    "(True == False)"
   ]
  },
  {
   "cell_type": "code",
   "execution_count": 17,
   "id": "dc5b2e14",
   "metadata": {},
   "outputs": [
    {
     "data": {
      "text/plain": [
       "False"
      ]
     },
     "execution_count": 17,
     "metadata": {},
     "output_type": "execute_result"
    }
   ],
   "source": [
    "True and False"
   ]
  },
  {
   "cell_type": "markdown",
   "id": "b18fc00f",
   "metadata": {},
   "source": [
    "as we can see above that we get True and True turns out to be True , True==False turns out to be False ,at last True and False turns out to be False"
   ]
  },
  {
   "cell_type": "code",
   "execution_count": 18,
   "id": "331f7fd7",
   "metadata": {},
   "outputs": [
    {
     "data": {
      "text/plain": [
       "True"
      ]
     },
     "execution_count": 18,
     "metadata": {},
     "output_type": "execute_result"
    }
   ],
   "source": [
    "(not False) or (not True)\n"
   ]
  },
  {
   "cell_type": "markdown",
   "id": "4fa011ad",
   "metadata": {},
   "source": [
    "(not False) turns out to be True ,(not True) results in False and at last True or False will result in True\n",
    "\n"
   ]
  },
  {
   "cell_type": "markdown",
   "id": "34d2145c",
   "metadata": {},
   "source": [
    "5. What are the six comparison operators?\n",
    "1- <\n",
    "2- >\n",
    "3- <=\n",
    "4- >=\n",
    "5- ==\n",
    "6- !="
   ]
  },
  {
   "cell_type": "markdown",
   "id": "0bc4039f",
   "metadata": {},
   "source": [
    "6. How do you tell the difference between the equal to and assignment operators?Describe a condition and when you would use one.\n",
    "-- when we use  this '=' we assign value to any variable as you can see below 89 is assigned to a now when ever we call a it give 89\n",
    "-- when we use '==' this it is use to check wheather the two object are having equal value it give answer in True or false "
   ]
  },
  {
   "cell_type": "code",
   "execution_count": 19,
   "id": "b9027aa7",
   "metadata": {},
   "outputs": [],
   "source": [
    "a=89"
   ]
  },
  {
   "cell_type": "code",
   "execution_count": 20,
   "id": "37591115",
   "metadata": {},
   "outputs": [
    {
     "data": {
      "text/plain": [
       "89"
      ]
     },
     "execution_count": 20,
     "metadata": {},
     "output_type": "execute_result"
    }
   ],
   "source": [
    "a"
   ]
  },
  {
   "cell_type": "code",
   "execution_count": 21,
   "id": "27f99fdb",
   "metadata": {},
   "outputs": [
    {
     "data": {
      "text/plain": [
       "False"
      ]
     },
     "execution_count": 21,
     "metadata": {},
     "output_type": "execute_result"
    }
   ],
   "source": [
    "89==25"
   ]
  },
  {
   "cell_type": "code",
   "execution_count": 22,
   "id": "d660d8f7",
   "metadata": {},
   "outputs": [
    {
     "data": {
      "text/plain": [
       "True"
      ]
     },
     "execution_count": 22,
     "metadata": {},
     "output_type": "execute_result"
    }
   ],
   "source": [
    "78==78"
   ]
  },
  {
   "cell_type": "markdown",
   "id": "d86c42ec",
   "metadata": {},
   "source": [
    "7. Identify the three blocks in this code:\n",
    "-- in below code \n",
    "1 The first block is of if as we can see that spam is not equal to 10 so it gone be false then this block will not excute\n",
    "2 The second block is also of if we can that condition is false then this will not excute\n",
    "3 The third block will excute at last"
   ]
  },
  {
   "cell_type": "code",
   "execution_count": 23,
   "id": "6d206173",
   "metadata": {},
   "outputs": [
    {
     "name": "stdout",
     "output_type": "stream",
     "text": [
      "ham\n",
      "spam\n",
      "spam\n"
     ]
    }
   ],
   "source": [
    "spam = 0\n",
    "if spam == 10:\n",
    "    print('eggs')\n",
    "if spam > 5:\n",
    "    print('bacon')\n",
    "else:\n",
    "    print('ham')\n",
    "    print('spam')\n",
    "    print('spam')\n"
   ]
  },
  {
   "cell_type": "code",
   "execution_count": 26,
   "id": "bd1cc2e0",
   "metadata": {},
   "outputs": [
    {
     "name": "stdout",
     "output_type": "stream",
     "text": [
      "Enter the value:2\n",
      "Howdy\n"
     ]
    }
   ],
   "source": [
    "#8. Write code that prints Hello if 1 is stored in spam, prints Howdy if 2 is stored in spam, and prints Greetings! if anything else is stored in spam.\n",
    "spam = int(input('Enter the value:'))\n",
    "if spam==1:\n",
    "    print('hello')\n",
    "elif spam==2:\n",
    "    print('Howdy')\n",
    "else:\n",
    "    print('Greetings!')\n",
    "    "
   ]
  },
  {
   "cell_type": "markdown",
   "id": "8469a29a",
   "metadata": {},
   "source": [
    "9.If your programme is stuck in an endless loop, what keys you’ll press?\n",
    "--We can use CTRL + C to break the loop or we can use stop button for that which is given every IDE\n"
   ]
  },
  {
   "cell_type": "markdown",
   "id": "7701e2b8",
   "metadata": {},
   "source": [
    "10. How can you tell the difference between break and continue?\n",
    "-- The break helps in coming out of loop any time we want before exhaustion of loop.\n",
    "-- The continue is used continue the loop when it meet continue without excuting the rest part of the loop body\n",
    "as shown below"
   ]
  },
  {
   "cell_type": "code",
   "execution_count": 29,
   "id": "cb124287",
   "metadata": {},
   "outputs": [
    {
     "name": "stdout",
     "output_type": "stream",
     "text": [
      "0\n",
      "1\n",
      "2\n",
      "3\n",
      "4\n"
     ]
    }
   ],
   "source": [
    "#break\n",
    "i=0\n",
    "while i<10:\n",
    "    if i== 5:\n",
    "        break\n",
    "    print(i)\n",
    "    i=i+1\n",
    "#as we can see the output loop break when i==5 so from here we can say that break just cut the loop an comes out from it"
   ]
  },
  {
   "cell_type": "code",
   "execution_count": 31,
   "id": "ccfed5d7",
   "metadata": {},
   "outputs": [
    {
     "name": "stdout",
     "output_type": "stream",
     "text": [
      "0\n",
      "1\n",
      "2\n",
      "3\n",
      "4\n",
      "6\n",
      "7\n",
      "8\n",
      "9\n"
     ]
    }
   ],
   "source": [
    "#continue\n",
    "i=0\n",
    "while i<10:\n",
    "    if i==5:     # i=5 \n",
    "        i=i+1    # excute this i=6\n",
    "        continue # then it will excute this after this excution it will go to the loop check condtion for the loop without excuting futher part of body\n",
    "    print(i)\n",
    "    i=i+1\n",
    "#as you can see that we get output but we did not get 5 because of continue"
   ]
  },
  {
   "cell_type": "markdown",
   "id": "56bcada5",
   "metadata": {},
   "source": [
    "11. In a for loop, what is the difference between range(10), range(0, 10), and range(0, 10, 1)?\n",
    "-- There is no difference between them all give same value \n"
   ]
  },
  {
   "cell_type": "code",
   "execution_count": 32,
   "id": "73e0faf2",
   "metadata": {},
   "outputs": [
    {
     "data": {
      "text/plain": [
       "[0, 1, 2, 3, 4, 5, 6, 7, 8, 9]"
      ]
     },
     "execution_count": 32,
     "metadata": {},
     "output_type": "execute_result"
    }
   ],
   "source": [
    "#in this by default starting point is zero and jump is one\n",
    "list(range(10))"
   ]
  },
  {
   "cell_type": "code",
   "execution_count": 33,
   "id": "9263ee40",
   "metadata": {},
   "outputs": [
    {
     "data": {
      "text/plain": [
       "[0, 1, 2, 3, 4, 5, 6, 7, 8, 9]"
      ]
     },
     "execution_count": 33,
     "metadata": {},
     "output_type": "execute_result"
    }
   ],
   "source": [
    "#in this by default jump is one\n",
    "list(range(0,10))"
   ]
  },
  {
   "cell_type": "code",
   "execution_count": 34,
   "id": "c147edd2",
   "metadata": {},
   "outputs": [
    {
     "data": {
      "text/plain": [
       "[0, 1, 2, 3, 4, 5, 6, 7, 8, 9]"
      ]
     },
     "execution_count": 34,
     "metadata": {},
     "output_type": "execute_result"
    }
   ],
   "source": [
    "#in this all specifications are give \n",
    "list(range(0,10,1))"
   ]
  },
  {
   "cell_type": "markdown",
   "id": "c55ea8b7",
   "metadata": {},
   "source": [
    "12. Write a short program that prints the numbers 1 to 10 using a for loop. Then write an equivalent program that prints the numbers 1 to 10 using a while loop."
   ]
  },
  {
   "cell_type": "code",
   "execution_count": 35,
   "id": "6936ccad",
   "metadata": {},
   "outputs": [
    {
     "name": "stdout",
     "output_type": "stream",
     "text": [
      "1\n",
      "2\n",
      "3\n",
      "4\n",
      "5\n",
      "6\n",
      "7\n",
      "8\n",
      "9\n",
      "10\n"
     ]
    }
   ],
   "source": [
    "#while\n",
    "i=1\n",
    "while i<=10:\n",
    "    print(i)\n",
    "    i=i+1"
   ]
  },
  {
   "cell_type": "code",
   "execution_count": 36,
   "id": "04b76489",
   "metadata": {},
   "outputs": [
    {
     "name": "stdout",
     "output_type": "stream",
     "text": [
      "1\n",
      "2\n",
      "3\n",
      "4\n",
      "5\n",
      "6\n",
      "7\n",
      "8\n",
      "9\n",
      "10\n"
     ]
    }
   ],
   "source": [
    "#for loop\n",
    "for i in range(1,11):\n",
    "    print(i)"
   ]
  },
  {
   "cell_type": "markdown",
   "id": "10e04d45",
   "metadata": {},
   "source": [
    "13. If you had a function named bacon() inside a module named spam, how would you call it after importing spam?\n",
    "-- After importing spam module  we can write spam.bacon()"
   ]
  }
 ],
 "metadata": {
  "kernelspec": {
   "display_name": "Python 3 (ipykernel)",
   "language": "python",
   "name": "python3"
  },
  "language_info": {
   "codemirror_mode": {
    "name": "ipython",
    "version": 3
   },
   "file_extension": ".py",
   "mimetype": "text/x-python",
   "name": "python",
   "nbconvert_exporter": "python",
   "pygments_lexer": "ipython3",
   "version": "3.9.7"
  }
 },
 "nbformat": 4,
 "nbformat_minor": 5
}
